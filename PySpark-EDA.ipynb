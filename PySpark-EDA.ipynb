{
 "cells": [
  {
   "cell_type": "code",
   "execution_count": 4,
   "id": "e23df4e9-cd8d-441a-8f39-bd0156de48e4",
   "metadata": {},
   "outputs": [],
   "source": [
    "# Initialize the spark on jupyter notebook\n",
    "\n",
    "import findspark\n",
    "findspark.init()\n",
    "\n",
    "\n",
    "# To create the dataframe in pyspark \n",
    "\n",
    "from pyspark.sql import SparkSession"
   ]
  },
  {
   "cell_type": "code",
   "execution_count": 5,
   "id": "6516097d-34a5-4c03-92c1-9cdd5f37f8f7",
   "metadata": {},
   "outputs": [],
   "source": [
    "# Initializing the sparksesstion \n",
    "\n",
    "spark = SparkSession \\\n",
    "    .builder \\\n",
    "    .appName(\"Python Spark SQL basic example\") \\\n",
    "    .config(\"spark.some.config.option\", \"some-value\") \\\n",
    "    .getOrCreate()"
   ]
  },
  {
   "cell_type": "code",
   "execution_count": 7,
   "id": "9a48ee00-cb28-41c6-af94-ca5489b27e6c",
   "metadata": {},
   "outputs": [],
   "source": [
    "# Reading the csv file in pyspark \n",
    "\n",
    "df = spark.read.csv('country_data.csv')"
   ]
  },
  {
   "cell_type": "code",
   "execution_count": 8,
   "id": "e44b6bff-9c2f-4df8-bb3d-b46b7f168a76",
   "metadata": {},
   "outputs": [
    {
     "name": "stdout",
     "output_type": "stream",
     "text": [
      "+---+--------------+---+-------------+-------+\n",
      "|_c0|           _c1|_c2|          _c3|    _c4|\n",
      "+---+--------------+---+-------------+-------+\n",
      "|  1|         Kabul|AFG|        Kabol|1780000|\n",
      "|  2|      Qandahar|AFG|     Qandahar| 237500|\n",
      "|  3|         Herat|AFG|        Herat| 186800|\n",
      "|  4|Mazar-e-Sharif|AFG|        Balkh| 127800|\n",
      "|  5|     Amsterdam|NLD|Noord-Holland| 731200|\n",
      "|  6|     Rotterdam|NLD| Zuid-Holland| 593321|\n",
      "|  7|          Haag|NLD| Zuid-Holland| 440900|\n",
      "|  8|       Utrecht|NLD|      Utrecht| 234323|\n",
      "|  9|     Eindhoven|NLD|Noord-Brabant| 201843|\n",
      "| 10|       Tilburg|NLD|Noord-Brabant| 193238|\n",
      "+---+--------------+---+-------------+-------+\n",
      "only showing top 10 rows\n",
      "\n"
     ]
    }
   ],
   "source": [
    "#Show First ten records\n",
    "df.show(10)"
   ]
  },
  {
   "cell_type": "code",
   "execution_count": 9,
   "id": "7692f7a0-76cf-4131-a60a-970a3f2851f5",
   "metadata": {},
   "outputs": [
    {
     "name": "stdout",
     "output_type": "stream",
     "text": [
      "root\n",
      " |-- _c0: string (nullable = true)\n",
      " |-- _c1: string (nullable = true)\n",
      " |-- _c2: string (nullable = true)\n",
      " |-- _c3: string (nullable = true)\n",
      " |-- _c4: string (nullable = true)\n",
      "\n"
     ]
    }
   ],
   "source": [
    "df.printSchema()"
   ]
  },
  {
   "cell_type": "code",
   "execution_count": 30,
   "id": "8518d482-d323-46f3-83b5-7b5c29392a74",
   "metadata": {},
   "outputs": [],
   "source": [
    "from pyspark.sql.types import StructType, StructField, StringType, IntegerType, FloatType\n",
    "\n",
    "schema = StructType([StructField('_c0', IntegerType(), True), \n",
    "                      StructField('City', StringType(), True), \n",
    "                      StructField('Country_Code', StringType(), True),\n",
    "                      StructField('Province', StringType(), True),\n",
    "                      StructField('Population', IntegerType(), True)\n",
    "                     ])"
   ]
  },
  {
   "cell_type": "code",
   "execution_count": 31,
   "id": "9c62b549-7d6e-4249-a599-721388abf596",
   "metadata": {},
   "outputs": [
    {
     "name": "stdout",
     "output_type": "stream",
     "text": [
      "+---+--------------+------------+-------------+----------+\n",
      "|_c0|          City|Country_Code|     Province|Population|\n",
      "+---+--------------+------------+-------------+----------+\n",
      "|  2|      Qandahar|         AFG|     Qandahar|    237500|\n",
      "|  3|         Herat|         AFG|        Herat|    186800|\n",
      "|  4|Mazar-e-Sharif|         AFG|        Balkh|    127800|\n",
      "|  5|     Amsterdam|         NLD|Noord-Holland|    731200|\n",
      "|  6|     Rotterdam|         NLD| Zuid-Holland|    593321|\n",
      "+---+--------------+------------+-------------+----------+\n",
      "only showing top 5 rows\n",
      "\n"
     ]
    }
   ],
   "source": [
    "# Redefining the dataframe with correct column labels \n",
    "\n",
    "df = spark.read.csv('country_data.csv', header=True, schema=schema)\n",
    "df.show(5)"
   ]
  },
  {
   "cell_type": "raw",
   "id": "c9892ebd-eb70-48bb-bfa8-fded3994d1c3",
   "metadata": {},
   "source": [
    "PART I - EXPLOTARY DATA ANALYSIS (EDA)"
   ]
  },
  {
   "cell_type": "code",
   "execution_count": 32,
   "id": "d5948aa8-75c1-471e-93ea-b819aa6994f7",
   "metadata": {},
   "outputs": [
    {
     "name": "stdout",
     "output_type": "stream",
     "text": [
      "Number of rows: \t 4078\n",
      "Number of columns: \t 5\n",
      "\n",
      "Name of columns: \n",
      " ['_c0', 'City', 'Country_Code', 'Province', 'Population']\n"
     ]
    }
   ],
   "source": [
    "# To count the total rows in the dataframe.\n",
    "print('Number of rows: \\t', df.count())\n",
    "\n",
    "# Number of columns can be counted in this way\n",
    "print('Number of columns: \\t', len(df.columns))\n",
    "\n",
    "# To view the names of the columns\n",
    "print('\\nName of columns: \\n', df.columns)"
   ]
  },
  {
   "cell_type": "code",
   "execution_count": 33,
   "id": "a734b32d-01c2-496c-b65f-909df6a47d15",
   "metadata": {},
   "outputs": [
    {
     "name": "stdout",
     "output_type": "stream",
     "text": [
      "+--------------+------------+-------------+----------+\n",
      "|          City|Country_Code|     Province|Population|\n",
      "+--------------+------------+-------------+----------+\n",
      "|      Qandahar|         AFG|     Qandahar|    237500|\n",
      "|         Herat|         AFG|        Herat|    186800|\n",
      "|Mazar-e-Sharif|         AFG|        Balkh|    127800|\n",
      "|     Amsterdam|         NLD|Noord-Holland|    731200|\n",
      "|     Rotterdam|         NLD| Zuid-Holland|    593321|\n",
      "+--------------+------------+-------------+----------+\n",
      "only showing top 5 rows\n",
      "\n"
     ]
    }
   ],
   "source": [
    "# Droping unwanted row from datafrmae\n",
    "df.drop('_c0').show(5)"
   ]
  },
  {
   "cell_type": "code",
   "execution_count": 34,
   "id": "acdff1f6-e573-4eb5-a006-b6acc9dae98f",
   "metadata": {},
   "outputs": [
    {
     "name": "stdout",
     "output_type": "stream",
     "text": [
      "+--------------+----------+\n",
      "|          City|Population|\n",
      "+--------------+----------+\n",
      "|      Qandahar|    237500|\n",
      "|         Herat|    186800|\n",
      "|Mazar-e-Sharif|    127800|\n",
      "|     Amsterdam|    731200|\n",
      "|     Rotterdam|    593321|\n",
      "+--------------+----------+\n",
      "only showing top 5 rows\n",
      "\n"
     ]
    }
   ],
   "source": [
    "# Selecting two columns from the dataframe \n",
    "df.select('City', 'Population').show(5)"
   ]
  },
  {
   "cell_type": "code",
   "execution_count": 35,
   "id": "67b6ca3b-c5eb-4e12-8082-310195d7d07f",
   "metadata": {},
   "outputs": [
    {
     "data": {
      "text/html": [
       "<div>\n",
       "<style scoped>\n",
       "    .dataframe tbody tr th:only-of-type {\n",
       "        vertical-align: middle;\n",
       "    }\n",
       "\n",
       "    .dataframe tbody tr th {\n",
       "        vertical-align: top;\n",
       "    }\n",
       "\n",
       "    .dataframe thead th {\n",
       "        text-align: right;\n",
       "    }\n",
       "</style>\n",
       "<table border=\"1\" class=\"dataframe\">\n",
       "  <thead>\n",
       "    <tr style=\"text-align: right;\">\n",
       "      <th></th>\n",
       "      <th>_c0</th>\n",
       "      <th>City</th>\n",
       "      <th>Country_Code</th>\n",
       "      <th>Province</th>\n",
       "      <th>Population</th>\n",
       "    </tr>\n",
       "  </thead>\n",
       "  <tbody>\n",
       "    <tr>\n",
       "      <th>0</th>\n",
       "      <td>2</td>\n",
       "      <td>Qandahar</td>\n",
       "      <td>AFG</td>\n",
       "      <td>Qandahar</td>\n",
       "      <td>237500</td>\n",
       "    </tr>\n",
       "    <tr>\n",
       "      <th>1</th>\n",
       "      <td>3</td>\n",
       "      <td>Herat</td>\n",
       "      <td>AFG</td>\n",
       "      <td>Herat</td>\n",
       "      <td>186800</td>\n",
       "    </tr>\n",
       "    <tr>\n",
       "      <th>2</th>\n",
       "      <td>4</td>\n",
       "      <td>Mazar-e-Sharif</td>\n",
       "      <td>AFG</td>\n",
       "      <td>Balkh</td>\n",
       "      <td>127800</td>\n",
       "    </tr>\n",
       "    <tr>\n",
       "      <th>3</th>\n",
       "      <td>5</td>\n",
       "      <td>Amsterdam</td>\n",
       "      <td>NLD</td>\n",
       "      <td>Noord-Holland</td>\n",
       "      <td>731200</td>\n",
       "    </tr>\n",
       "    <tr>\n",
       "      <th>4</th>\n",
       "      <td>6</td>\n",
       "      <td>Rotterdam</td>\n",
       "      <td>NLD</td>\n",
       "      <td>Zuid-Holland</td>\n",
       "      <td>593321</td>\n",
       "    </tr>\n",
       "  </tbody>\n",
       "</table>\n",
       "</div>"
      ],
      "text/plain": [
       "   _c0            City Country_Code       Province  Population\n",
       "0    2        Qandahar          AFG       Qandahar      237500\n",
       "1    3           Herat          AFG          Herat      186800\n",
       "2    4  Mazar-e-Sharif          AFG          Balkh      127800\n",
       "3    5       Amsterdam          NLD  Noord-Holland      731200\n",
       "4    6       Rotterdam          NLD   Zuid-Holland      593321"
      ]
     },
     "execution_count": 35,
     "metadata": {},
     "output_type": "execute_result"
    }
   ],
   "source": [
    "# Convert spark dataframe to Pandas dataframe\n",
    "df.toPandas().head()"
   ]
  },
  {
   "cell_type": "code",
   "execution_count": 36,
   "id": "dc10cce9-b3d9-47d0-811e-b4cfd45bd644",
   "metadata": {},
   "outputs": [
    {
     "name": "stdout",
     "output_type": "stream",
     "text": [
      "+----+---------------+------------+------------+----------+\n",
      "| _c0|           City|Country_Code|    Province|Population|\n",
      "+----+---------------+------------+------------+----------+\n",
      "|1024|Mumbai (Bombay)|         IND| Maharashtra|  10500000|\n",
      "|2331|          Seoul|         KOR|       Seoul|   9981619|\n",
      "| 206|      São Paulo|         BRA|   São Paulo|   9968485|\n",
      "|1890|       Shanghai|         CHN|    Shanghai|   9696300|\n",
      "| 939|        Jakarta|         IDN|Jakarta Raya|   9604900|\n",
      "+----+---------------+------------+------------+----------+\n",
      "only showing top 5 rows\n",
      "\n"
     ]
    }
   ],
   "source": [
    "# By default the data is orderd by country, change to Population\n",
    "df.orderBy('Population', ascending=False).show(5)"
   ]
  },
  {
   "cell_type": "markdown",
   "id": "3b2ac22f-3704-4516-84f4-f3829b33ca47",
   "metadata": {},
   "source": [
    "We see the Highest Population City is Mumbai(India)"
   ]
  },
  {
   "cell_type": "code",
   "execution_count": 37,
   "id": "cc89678a-558d-4d40-bbaa-fbca9e0293e9",
   "metadata": {},
   "outputs": [
    {
     "name": "stdout",
     "output_type": "stream",
     "text": [
      "+-------+-----------------+\n",
      "|summary|       Population|\n",
      "+-------+-----------------+\n",
      "|  count|             4078|\n",
      "|   mean|350117.6763119176|\n",
      "| stddev|723518.0762669161|\n",
      "|    min|               42|\n",
      "|    max|         10500000|\n",
      "+-------+-----------------+\n",
      "\n"
     ]
    }
   ],
   "source": [
    "# Descriptive statistics of the datafrmae\n",
    "df.describe('Population').show()"
   ]
  },
  {
   "cell_type": "markdown",
   "id": "93529790-60b5-40f7-b6da-d42793eade03",
   "metadata": {},
   "source": [
    "The average population in the dataset is 350117"
   ]
  },
  {
   "cell_type": "code",
   "execution_count": 46,
   "id": "05451b15-54c4-472d-a6d7-1c5f6a0c6b85",
   "metadata": {},
   "outputs": [
    {
     "name": "stdout",
     "output_type": "stream",
     "text": [
      "+--------------------+----------+\n",
      "|                City|Population|\n",
      "+--------------------+----------+\n",
      "|         Belize City|     55810|\n",
      "|             Atibaia|    100356|\n",
      "|          Birmingham|   1013000|\n",
      "|            Brighton|    156124|\n",
      "|           Koudougou|    105000|\n",
      "|Midnapore (Medini...|    125498|\n",
      "|Tellicherry (Thal...|    103579|\n",
      "|            Hachioji|    513451|\n",
      "|                Gifu|    408007|\n",
      "|            Ichihara|    279280|\n",
      "+--------------------+----------+\n",
      "only showing top 10 rows\n",
      "\n"
     ]
    }
   ],
   "source": [
    "# distinct() removes the repeatition in the selection \n",
    "cities = df.select('City', 'Population').distinct()\n",
    "cities.show(10)"
   ]
  },
  {
   "cell_type": "code",
   "execution_count": 47,
   "id": "147adf1b-4f92-47cd-a01c-422f60811c66",
   "metadata": {},
   "outputs": [
    {
     "name": "stdout",
     "output_type": "stream",
     "text": [
      "+--------------------+----------+\n",
      "|                City|Population|\n",
      "+--------------------+----------+\n",
      "|A Coruña (La Coruña)|    243402|\n",
      "|              Aachen|    243825|\n",
      "|             Aalborg|    161161|\n",
      "|                 Aba|    298900|\n",
      "|              Abadan|    206073|\n",
      "|          Abaetetuba|    111258|\n",
      "|              Abakan|    169200|\n",
      "|          Abbotsford|    105403|\n",
      "|            Abeokuta|    427400|\n",
      "|            Aberdeen|    213070|\n",
      "+--------------------+----------+\n",
      "only showing top 10 rows\n",
      "\n"
     ]
    }
   ],
   "source": [
    "# We can sort the dataframe by selected column name \n",
    "cities.sort('City').show(10)"
   ]
  },
  {
   "cell_type": "code",
   "execution_count": 48,
   "id": "6f7682fd-0cf7-42cd-be48-9a7d2d76ea81",
   "metadata": {},
   "outputs": [
    {
     "data": {
      "text/plain": [
       "4078"
      ]
     },
     "execution_count": 48,
     "metadata": {},
     "output_type": "execute_result"
    }
   ],
   "source": [
    "# Now we can count the total number of countries \n",
    "cities.count()"
   ]
  },
  {
   "cell_type": "code",
   "execution_count": 50,
   "id": "a378a866-8e50-4492-9da2-d37d054338be",
   "metadata": {},
   "outputs": [
    {
     "name": "stdout",
     "output_type": "stream",
     "text": [
      "+----------------+----------+\n",
      "|            City|Population|\n",
      "+----------------+----------+\n",
      "|      Birmingham|   1013000|\n",
      "|        Shanghai|   9696300|\n",
      "|        Nanchang|   1691600|\n",
      "|          Quezon|   2173831|\n",
      "|          Peking|   7472000|\n",
      "|         Tianjin|   5286800|\n",
      "|            Cali|   2077386|\n",
      "|  Nezahualcóyotl|   1224924|\n",
      "|Harkova [Harkiv]|   1500000|\n",
      "|            Pune|   1566651|\n",
      "|       Hyderabad|   1151274|\n",
      "|        Curitiba|   1584232|\n",
      "|          Lusaka|   1317000|\n",
      "|Ho Chi Minh City|   3980000|\n",
      "|            Giza|   2221868|\n",
      "|            Perm|   1009700|\n",
      "|        Ludhiana|   1042740|\n",
      "|          Beirut|   1100000|\n",
      "|   St Petersburg|   4694000|\n",
      "|          Manaus|   1255049|\n",
      "+----------------+----------+\n",
      "only showing top 20 rows\n",
      "\n"
     ]
    }
   ],
   "source": [
    "# Filter is to make selection from the dataframe\n",
    "\n",
    "cities.filter((cities['Population'] > 1000000)).show()"
   ]
  },
  {
   "cell_type": "code",
   "execution_count": 51,
   "id": "fc7f300b-00a0-41e9-a75f-cb1f37774fe3",
   "metadata": {},
   "outputs": [
    {
     "name": "stdout",
     "output_type": "stream",
     "text": [
      "_c0 \t\t\t 0\n",
      "City \t\t\t 0\n",
      "Country_Code \t\t\t 0\n",
      "Province \t\t\t 4\n",
      "Population \t\t\t 0\n"
     ]
    }
   ],
   "source": [
    "# Missing values in the dataframe \n",
    "for col_name in df.columns:\n",
    "    print(col_name, '\\t\\t\\t', df.filter(df[col_name].isNull()).count())"
   ]
  },
  {
   "cell_type": "markdown",
   "id": "ce268129-4f49-4095-a935-c303ae622993",
   "metadata": {},
   "source": [
    "We have four missing values in the Province column"
   ]
  },
  {
   "cell_type": "code",
   "execution_count": 53,
   "id": "a0872e23-18d3-485d-9183-140a9960bd36",
   "metadata": {},
   "outputs": [
    {
     "name": "stdout",
     "output_type": "stream",
     "text": [
      "_c0 \t\t\t 0\n",
      "City \t\t\t 0\n",
      "Country_Code \t\t\t 0\n",
      "Province \t\t\t 0\n",
      "Population \t\t\t 0\n"
     ]
    }
   ],
   "source": [
    "# Filling the missing values \n",
    "df_nonull = df.fillna({'Province': 'Not Available'})\n",
    "\n",
    "for col_name in df_nonull.columns:\n",
    "    print(col_name, '\\t\\t\\t', df_nonull.filter(df_nonull[col_name].isNull()).count())"
   ]
  }
 ],
 "metadata": {
  "kernelspec": {
   "display_name": "Python 3 (ipykernel)",
   "language": "python",
   "name": "python3"
  },
  "language_info": {
   "codemirror_mode": {
    "name": "ipython",
    "version": 3
   },
   "file_extension": ".py",
   "mimetype": "text/x-python",
   "name": "python",
   "nbconvert_exporter": "python",
   "pygments_lexer": "ipython3",
   "version": "3.9.10"
  }
 },
 "nbformat": 4,
 "nbformat_minor": 5
}
