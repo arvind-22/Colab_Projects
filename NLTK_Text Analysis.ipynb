{
 "cells": [
  {
   "cell_type": "markdown",
   "id": "d42fa8ea-b662-4401-9209-a11a64e4b646",
   "metadata": {},
   "source": [
    "# Text Analytics using NLTK"
   ]
  },
  {
   "cell_type": "markdown",
   "id": "243427cc",
   "metadata": {},
   "source": [
    "Text Analytics has lots of applications in today's online world. By analyzing tweets on Twitter, we can find trending news and peoples reaction on a particular event. Amazon can understand user feedback or review on the specific product. BookMyShow can discover people's opinion about the movie. Youtube can also analyze and understand peoples viewpoints on a video.\n",
    "\n",
    "In this tutorial, you are going to cover the following topics:\n",
    "* Text Analytics and NLP\n",
    "* Compare Text Analytics, NLP and Text Mining\n",
    "    * Text Analysis Operations using NLTK\n",
    "    * Tokenization\n",
    "    * Stopwords\n",
    "    * Lexicon Normalization such as Stemming and Lemmatization\n",
    "    * POS Tagging\n",
    "* Sentiment Analysis\n",
    "* Text Classification\n",
    "* Performing Sentiment Analysis using Text Classification\n",
    "\n",
    "## Text Analytics and NLP\n",
    "\n",
    "Text communication is one of the most popular forms of day to day conversion. We chat, message, tweet,  share status, email, write blogs, share opinion and feedback in our daily routine.  All of these activities are generating text in a significant amount, which is unstructured in nature. I this area of the online marketplace and social media, It is essential to analyze vast quantities of data, to understand peoples opinion.\n",
    "\n",
    "NLP enables the computer to interact with humans in a natural manner. It helps the computer to understand the human language and derive meaning from it. NLP is applicable in several problematic from speech recognition, language translation, classifying documents to information extraction. Analyzing movie review is one of the classic examples to demonstrate a simple NLP Bag-of-words model, on movie reviews.\n",
    "\n",
    "## Compare Text Analytics, NLP and Text Mining\n",
    "\n",
    "Text mining also referred to as text analytics. Text mining is a process of exploring sizeable textual data and find patterns. Text Mining process the text itself, while NLP process with the underlying metadata. Finding frequency counts of words, length of the sentence, presence/absence of specific words is known as text mining. Natural language processing is one of the components of text mining. NLP helps identified sentiment,  finding entities in the sentence,  and category of blog/article. Text mining is preprocessed data for text analytics.  In Text Analytics,  statistical and machine learning algorithm used to classify information."
   ]
  },
  {
   "cell_type": "markdown",
   "id": "a521d0d3",
   "metadata": {},
   "source": [
    "## Text Analysis Operations using NLTK\n",
    "\n",
    "NLTK is a powerful Python package that provides a set of diverse natural languages algorithms.  It is free, opensource, easy to use, large community, and well documented. NLTK consists of the most common algorithms such as tokenizing, part-of-speech tagging, stemming, sentiment analysis, topic segmentation, and named entity recognition. NLTK helps the computer to analysis, preprocess, and understand the written text.\n"
   ]
  },
  {
   "cell_type": "code",
   "execution_count": null,
   "id": "42fd00f7",
   "metadata": {},
   "outputs": [],
   "source": [
    "%%capture\n",
    "!pip install nltk"
   ]
  },
  {
   "cell_type": "code",
   "execution_count": null,
   "id": "23d063bb",
   "metadata": {},
   "outputs": [
    {
     "name": "stderr",
     "output_type": "stream",
     "text": [
      "[nltk_data] Downloading package punkt to /home/repl/nltk_data...\n",
      "[nltk_data]   Package punkt is already up-to-date!\n"
     ]
    },
    {
     "data": {
      "text/plain": [
       "True"
      ]
     },
     "execution_count": 5,
     "metadata": {},
     "output_type": "execute_result"
    }
   ],
   "source": [
    "# Loading NLTK\n",
    "import nltk\n",
    "nltk.download('punkt')"
   ]
  },
  {
   "cell_type": "markdown",
   "id": "3e717a62",
   "metadata": {},
   "source": [
    "### Tokenization\n",
    "\n",
    "Tokenization is the first step in text analytics. The process of breaking down a text paragraph into smaller chunks such as words or sentence is called Tokenization. Token is a single entity that is building blocks for sentence or paragraph.\n",
    "\n",
    "#### Sentence Tokenization\n",
    "\n",
    "Sentence tokenizer breaks text paragraph into sentences.\n"
   ]
  },
  {
   "cell_type": "code",
   "execution_count": null,
   "id": "3e6b0709",
   "metadata": {},
   "outputs": [
    {
     "name": "stdout",
     "output_type": "stream",
     "text": [
      "['Hello Mr. Smith, how are you doing today?', 'The weather is great, and city is awesome.', 'The sky is pinkish-blue.', \"You shouldn't eat cardboard\"]\n"
     ]
    }
   ],
   "source": [
    "from nltk.tokenize import sent_tokenize\n",
    "\n",
    "text = \"\"\"Hello Mr. Smith, how are you doing today? The weather is great, and city is awesome.\n",
    "The sky is pinkish-blue. You shouldn't eat cardboard\"\"\"\n",
    "\n",
    "tokenized_text = sent_tokenize(text)\n",
    "print(tokenized_text)"
   ]
  },
  {
   "cell_type": "markdown",
   "id": "9ced8034",
   "metadata": {},
   "source": [
    "Here, the given text is tokenized into sentences.\n",
    "\n",
    "#### Word Tokenization\n",
    "\n",
    "Word tokenizer breaks text paragraph into words.\n"
   ]
  },
  {
   "cell_type": "code",
   "execution_count": null,
   "id": "53b87832",
   "metadata": {},
   "outputs": [
    {
     "name": "stdout",
     "output_type": "stream",
     "text": [
      "['Hello', 'Mr.', 'Smith', ',', 'how', 'are', 'you', 'doing', 'today', '?', 'The', 'weather', 'is', 'great', ',', 'and', 'city', 'is', 'awesome', '.', 'The', 'sky', 'is', 'pinkish-blue', '.', 'You', 'should', \"n't\", 'eat', 'cardboard']\n"
     ]
    }
   ],
   "source": [
    "from nltk.tokenize import word_tokenize\n",
    "text = \"\"\"Hello Mr. Smith, how are you doing today? The weather is great, and city is awesome.\n",
    "The sky is pinkish-blue. You shouldn't eat cardboard\"\"\"\n",
    "\n",
    "tokenized_word = word_tokenize(text)\n",
    "print(tokenized_word)"
   ]
  },
  {
   "cell_type": "markdown",
   "id": "9da663c0",
   "metadata": {},
   "source": [
    "#### Frequency Distribution\n"
   ]
  },
  {
   "cell_type": "code",
   "execution_count": null,
   "id": "028f9d89",
   "metadata": {},
   "outputs": [
    {
     "name": "stdout",
     "output_type": "stream",
     "text": [
      "<FreqDist with 25 samples and 30 outcomes>\n"
     ]
    }
   ],
   "source": [
    "from nltk.probability import FreqDist\n",
    "\n",
    "fdist = FreqDist(tokenized_word)\n",
    "print(fdist)"
   ]
  },
  {
   "cell_type": "code",
   "execution_count": null,
   "id": "8006ca58",
   "metadata": {
    "lines_to_next_cell": 0
   },
   "outputs": [
    {
     "data": {
      "text/plain": [
       "[('is', 3), (',', 2)]"
      ]
     },
     "execution_count": 10,
     "metadata": {},
     "output_type": "execute_result"
    }
   ],
   "source": [
    "fdist.most_common(2)"
   ]
  },
  {
   "cell_type": "code",
   "execution_count": null,
   "id": "c7ef9f15",
   "metadata": {
    "lines_to_next_cell": 2
   },
   "outputs": [
    {
     "data": {
      "image/png": "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\n",
      "text/plain": [
       "<Figure size 432x288 with 1 Axes>"
      ]
     },
     "metadata": {
      "needs_background": "light"
     },
     "output_type": "display_data"
    }
   ],
   "source": [
    "# Frequency Distribution Plot\n",
    "import matplotlib.pyplot as plt\n",
    "\n",
    "fdist.plot(30, cumulative=False)\n",
    "plt.show()"
   ]
  },
  {
   "cell_type": "markdown",
   "id": "8f86a89b",
   "metadata": {},
   "source": [
    "### Stopwords\n",
    "\n",
    "Stopwords considered as noise in the text. Text may contain stop words such as is, am, are,  this, a, an, the, etc.\n",
    "\n",
    "In NLTK for removing stopwords, you need to create a list of stopwords and filter out your list of tokens from these words.\n"
   ]
  },
  {
   "cell_type": "code",
   "execution_count": null,
   "id": "178bed99-70d1-46c5-8a28-46a7880ad0d9",
   "metadata": {},
   "outputs": [
    {
     "name": "stderr",
     "output_type": "stream",
     "text": [
      "[nltk_data] Downloading package stopwords to /home/repl/nltk_data...\n",
      "[nltk_data]   Unzipping corpora/stopwords.zip.\n"
     ]
    },
    {
     "data": {
      "text/plain": [
       "True"
      ]
     },
     "execution_count": 11,
     "metadata": {},
     "output_type": "execute_result"
    }
   ],
   "source": [
    "nltk.download('stopwords')"
   ]
  },
  {
   "cell_type": "code",
   "execution_count": null,
   "id": "3dbcd2b2",
   "metadata": {},
   "outputs": [
    {
     "name": "stdout",
     "output_type": "stream",
     "text": [
      "{'ourselves', 'below', 'o', 'will', 'you', 'once', 'further', 'had', 'between', 'down', 't', 'be', 'as', 'been', 'about', 'for', 'me', 'himself', 'most', 'its', 'some', 'am', 'with', 'or', 'few', 'haven', 'each', 'it', 'all', 'their', 'again', 'is', 'while', 'were', \"you'll\", 'aren', 'couldn', 'very', 'where', 'just', 'are', 'y', \"mightn't\", \"that'll\", 'after', 'from', \"shouldn't\", 'such', 'which', 'yourself', 'above', 'having', \"don't\", 'they', 'too', 'wouldn', 'has', 'why', 'themselves', 'here', 'so', 'whom', 'until', 'during', 'out', \"needn't\", 'm', 'how', 'into', 'itself', 'than', 'shan', 'my', 'hasn', 'through', \"hadn't\", 'own', 'did', 'doesn', 'theirs', \"should've\", 'then', 'herself', \"haven't\", 're', 'hadn', \"weren't\", 'before', 'our', \"you're\", 'i', 'being', \"wasn't\", 'to', 'll', 'was', 'no', \"you'd\", \"aren't\", 'does', 'now', 'ours', 'up', 'do', 'in', 'only', 'mustn', 'not', 'of', 's', \"isn't\", \"didn't\", 'off', \"mustn't\", 'a', \"doesn't\", 'under', 'didn', 'same', 'that', 'his', 'both', \"shan't\", 'shouldn', 'ain', 'and', 'there', 'because', 'what', 'any', \"it's\", 'more', 'can', 'yourselves', 'ma', 'she', 'needn', 'on', 'by', 'this', 'your', 'won', \"she's\", 'other', 'nor', 'an', \"wouldn't\", 'he', \"won't\", 'myself', 'don', 'wasn', 'should', 'd', \"hasn't\", 'weren', 'yours', 'those', 'against', 've', 'if', 'when', 'him', 'hers', 'at', 'doing', 'the', \"couldn't\", 'over', 'isn', 'mightn', 'them', 'but', 'her', 'have', 'who', 'these', 'we', \"you've\"}\n"
     ]
    }
   ],
   "source": [
    "from nltk.corpus import stopwords\n",
    "\n",
    "stop_words = set(stopwords.words(\"english\"))\n",
    "print(stop_words)"
   ]
  },
  {
   "cell_type": "markdown",
   "id": "a3604ea0",
   "metadata": {},
   "source": [
    "#### Removing Stopwords\n"
   ]
  },
  {
   "cell_type": "code",
   "execution_count": null,
   "id": "de0dd7fe",
   "metadata": {},
   "outputs": [
    {
     "name": "stdout",
     "output_type": "stream",
     "text": [
      "Tokenized Sentence: ['Hello', 'Mr.', 'Smith', ',', 'how', 'are', 'you', 'doing', 'today', '?', 'The', 'weather', 'is', 'great', ',', 'and', 'city', 'is', 'awesome', '.', 'The', 'sky', 'is', 'pinkish-blue', '.', 'You', 'should', \"n't\", 'eat', 'cardboard']\n",
      "Filterd Sentence: ['Hello', 'Mr.', 'Smith', ',', 'today', '?', 'The', 'weather', 'great', ',', 'city', 'awesome', '.', 'The', 'sky', 'pinkish-blue', '.', 'You', \"n't\", 'eat', 'cardboard']\n"
     ]
    }
   ],
   "source": [
    "filtered_sent = []\n",
    "\n",
    "for w in tokenized_word:\n",
    "    if w not in stop_words:\n",
    "        filtered_sent.append(w)\n",
    "\n",
    "print(\"Tokenized Sentence:\",tokenized_word)\n",
    "print(\"Filterd Sentence:\",filtered_sent)"
   ]
  },
  {
   "cell_type": "markdown",
   "id": "2024d1b9",
   "metadata": {},
   "source": [
    "### Lexicon Normalization\n",
    "\n",
    "Lexicon normalization considers another type of noise in the text. For example, connection, connected, connecting word reduce to a common word \"connect\". It reduces derivationally related forms of a word to a common root word.\n",
    "\n",
    "#### Stemming\n",
    "\n",
    "Stemming is a process of linguistic normalization, which reduces words to their word root word or chops off the derivational affixes. For example, connection, connected, connecting word reduce to a common word \"connect\".\n"
   ]
  },
  {
   "cell_type": "code",
   "execution_count": null,
   "id": "a0c79b6d",
   "metadata": {},
   "outputs": [
    {
     "name": "stdout",
     "output_type": "stream",
     "text": [
      "Filtered Sentence: ['Hello', 'Mr.', 'Smith', ',', 'today', '?', 'The', 'weather', 'great', ',', 'city', 'awesome', '.', 'The', 'sky', 'pinkish-blue', '.', 'You', \"n't\", 'eat', 'cardboard']\n",
      "Stemmed Sentence: ['hello', 'mr.', 'smith', ',', 'today', '?', 'the', 'weather', 'great', ',', 'citi', 'awesom', '.', 'the', 'sky', 'pinkish-blu', '.', 'you', \"n't\", 'eat', 'cardboard']\n"
     ]
    }
   ],
   "source": [
    "# Stemming\n",
    "from nltk.stem import PorterStemmer\n",
    "from nltk.tokenize import sent_tokenize, word_tokenize\n",
    "\n",
    "ps = PorterStemmer()\n",
    "filtered_sent = ['Hello', 'Mr.', 'Smith', ',', 'today', '?', 'The', 'weather', 'great', ',', 'city', 'awesome', '.', 'The', 'sky', 'pinkish-blue', '.', 'You', \"n't\", 'eat', 'cardboard']\n",
    "\n",
    "stemmed_words = []\n",
    "for w in filtered_sent:\n",
    "    stemmed_words.append(ps.stem(w))\n",
    "\n",
    "print(\"Filtered Sentence:\",filtered_sent)\n",
    "print(\"Stemmed Sentence:\",stemmed_words)    "
   ]
  },
  {
   "cell_type": "markdown",
   "id": "275acec3",
   "metadata": {},
   "source": [
    "#### Lemmatization\n",
    "\n",
    "Lemmatization reduces words to their base word, which is linguistically correct lemmas. It transforms root word with the use of vocabulary and morphological analysis. Lemmatization is usually more sophisticated than stemming. Stemmer works on an individual word without knowledge of the context. For example, The word \"better\" has \"good\" as its lemma. This thing will miss by stemming because it requires a dictionary look-up.\n"
   ]
  },
  {
   "cell_type": "code",
   "execution_count": null,
   "id": "02202eab-5739-4bfc-a165-57a256396fe7",
   "metadata": {},
   "outputs": [
    {
     "name": "stderr",
     "output_type": "stream",
     "text": [
      "[nltk_data] Downloading package wordnet to /home/repl/nltk_data...\n",
      "[nltk_data]   Unzipping corpora/wordnet.zip.\n"
     ]
    },
    {
     "data": {
      "text/plain": [
       "True"
      ]
     },
     "execution_count": 19,
     "metadata": {},
     "output_type": "execute_result"
    }
   ],
   "source": [
    "nltk.download('wordnet')"
   ]
  },
  {
   "cell_type": "code",
   "execution_count": null,
   "id": "26f20f40",
   "metadata": {},
   "outputs": [
    {
     "name": "stderr",
     "output_type": "stream",
     "text": [
      "[nltk_data] Downloading package omw-1.4 to /home/repl/nltk_data...\n",
      "[nltk_data]   Unzipping corpora/omw-1.4.zip.\n"
     ]
    },
    {
     "name": "stdout",
     "output_type": "stream",
     "text": [
      "Lemmatized Word: fly\n",
      "Stemmed Word: fli\n"
     ]
    }
   ],
   "source": [
    "#Lexicon Normalization\n",
    "#performing stemming and Lemmatization\n",
    "import nltk\n",
    "nltk.download('omw-1.4')\n",
    "\n",
    "from nltk.stem import WordNetLemmatizer\n",
    "lem = WordNetLemmatizer()\n",
    "\n",
    "from nltk.stem import PorterStemmer\n",
    "stem = PorterStemmer()\n",
    "\n",
    "word = \"flying\"\n",
    "print(\"Lemmatized Word:\",lem.lemmatize(word,\"v\"))\n",
    "print(\"Stemmed Word:\",stem.stem(word))"
   ]
  },
  {
   "cell_type": "markdown",
   "id": "abcd8a9b",
   "metadata": {},
   "source": [
    "### POS Tagging\n",
    "\n",
    "The primary target of Part-of-Speech(POS) tagging is to identify the grammatical group of a given word. Whether it is a NOUN, PRONOUN, ADJECTIVE, VERB, ADVERBS, etc. based on the context. POS Tagging looks for relationships within the sentence and assigns a corresponding tag to the word.\n"
   ]
  },
  {
   "cell_type": "code",
   "execution_count": null,
   "id": "350f1f9b",
   "metadata": {
    "lines_to_next_cell": 2
   },
   "outputs": [],
   "source": [
    "sent = \"Albert Einstein was born in Ulm, Germany in 1879.\""
   ]
  },
  {
   "cell_type": "code",
   "execution_count": null,
   "id": "541d38d6",
   "metadata": {},
   "outputs": [
    {
     "name": "stdout",
     "output_type": "stream",
     "text": [
      "['Albert', 'Einstein', 'was', 'born', 'in', 'Ulm', ',', 'Germany', 'in', '1879', '.']\n"
     ]
    }
   ],
   "source": [
    "tokens = nltk.word_tokenize(sent)\n",
    "print(tokens)"
   ]
  },
  {
   "cell_type": "code",
   "execution_count": null,
   "id": "ef8ecaa5-e57b-4441-93bf-1145536f0b59",
   "metadata": {},
   "outputs": [
    {
     "name": "stderr",
     "output_type": "stream",
     "text": [
      "[nltk_data] Downloading package averaged_perceptron_tagger to\n",
      "[nltk_data]     /home/repl/nltk_data...\n",
      "[nltk_data]   Unzipping taggers/averaged_perceptron_tagger.zip.\n"
     ]
    },
    {
     "data": {
      "text/plain": [
       "True"
      ]
     },
     "execution_count": 26,
     "metadata": {},
     "output_type": "execute_result"
    }
   ],
   "source": [
    "nltk.download('averaged_perceptron_tagger')"
   ]
  },
  {
   "cell_type": "code",
   "execution_count": null,
   "id": "6ccec0f7",
   "metadata": {
    "lines_to_next_cell": 0
   },
   "outputs": [
    {
     "data": {
      "text/plain": [
       "[('Albert', 'NNP'),\n",
       " ('Einstein', 'NNP'),\n",
       " ('was', 'VBD'),\n",
       " ('born', 'VBN'),\n",
       " ('in', 'IN'),\n",
       " ('Ulm', 'NNP'),\n",
       " (',', ','),\n",
       " ('Germany', 'NNP'),\n",
       " ('in', 'IN'),\n",
       " ('1879', 'CD'),\n",
       " ('.', '.')]"
      ]
     },
     "execution_count": 27,
     "metadata": {},
     "output_type": "execute_result"
    }
   ],
   "source": [
    "nltk.pos_tag(tokens)"
   ]
  },
  {
   "cell_type": "markdown",
   "id": "6d46a51d",
   "metadata": {},
   "source": [
    "POS tagged: Albert/NNP Einstein/NNP was/VBD born/VBN in/IN Ulm/NNP ,/, Germany/NNP in/IN 1879/CD ./.\n",
    "\n",
    "## Sentiment Analysis\n",
    "\n",
    "Nowadays companies want to understand, what went wrong with their latest products? What users and the general public think about the latest feature? You can quantify such information with reasonable accuracy using sentiment analysis.\n",
    "\n",
    "Quantifying users content, idea, belief, and opinion is known as sentiment analysis. User's online post, blogs, tweets, feedback of product helps business people to the target audience and innovate in products and services. Sentiment analysis helps in understanding people in a better and more accurate way. It is not only limited to marketing, but it can also be utilized in politics, research, and security.\n",
    "\n",
    "Human communication just not limited to words, it is more than words. Sentiments are combination words, tone, and writing style. As a data analyst, It is more important to understand our sentiments, what it really means?\n",
    "\n",
    "![sentiment analysis](graphics/figure1.png)\n",
    "\n",
    "There are mainly two approaches for performing sentiment analysis.\n",
    "* Lexicon-based: count number of positive and negative words in given text and the larger count will be the sentiment of text.\n",
    "\n",
    "* Machine learning based approach: Develop a classification model, which is trained using the pre-labeled dataset of positive, negative, and neutral.\n",
    "\n",
    "In this Tutorial, you will use the second approach(Machine learning based approach). This is how you learn sentiment and text classification with a single example.\n",
    "\n",
    "## Text Classification\n",
    "\n",
    "Text classification is one of the important tasks of text mining. It is a supervised approach. Identifying category or class of given text such as a blog, book, web page, news articles, and tweets. It has various application in today's computer world such as spam detection, task categorization in CRM services, categorizing products on E-retailer websites, classifying the content of websites for a search engine, sentiments of customer feedback, etc. In the next section, you will learn how you can do text classification in python.\n",
    "\n",
    "![text classification workflow](graphics/figure2.png)\n",
    "\n",
    "## Performing Sentiment Analysis using Text Classification\n"
   ]
  },
  {
   "cell_type": "code",
   "execution_count": null,
   "id": "b8ea901a",
   "metadata": {},
   "outputs": [],
   "source": [
    "# Import pandas\n",
    "import pandas as pd"
   ]
  },
  {
   "cell_type": "markdown",
   "id": "b2ad2abd",
   "metadata": {},
   "source": [
    "#### Loading Data\n",
    "\n",
    "Till now, you have learned data pre-processing using NLTK. Now, you will learn Text Classification. You will perform Multi-Nomial Naive Bayes Classification using scikit-learn.\n",
    "\n",
    "In the model the building part, you can use the \"Sentiment Analysis of Movie, Reviews\" dataset available on Kaggle. The dataset is a tab-separated file. Dataset has four columns PhraseId, SentenceId, Phrase, and Sentiment.\n",
    "\n",
    "This data has 5 sentiment labels:\n",
    "\n",
    "0 - negative\n",
    "1 - somewhat negative\n",
    "2 - neutral\n",
    "3 - somewhat positive\n",
    "4 - positive\n",
    "\n",
    "Here, you can build a model to classify the type of cultivar. The dataset is available on Kaggle. You can download it from the following link: https://www.kaggle.com/c/sentiment-analysis-on-movie-reviews/data\n"
   ]
  },
  {
   "cell_type": "code",
   "execution_count": null,
   "id": "86486383",
   "metadata": {
    "lines_to_next_cell": 2
   },
   "outputs": [],
   "source": [
    "data = pd.read_csv('data/train.tsv', sep='\\t')"
   ]
  },
  {
   "cell_type": "code",
   "execution_count": null,
   "id": "4b7afe8a",
   "metadata": {
    "lines_to_next_cell": 0
   },
   "outputs": [
    {
     "data": {
      "application/com.datacamp.data-table.v1+json": {
       "is_truncated": false,
       "table": {
        "data": [
         {
          "Phrase": "A series of escapades demonstrating the adage that what is good for the goose is also good for the gander , some of which occasionally amuses but none of which amounts to much of a story .",
          "PhraseId": 1,
          "SentenceId": 1,
          "Sentiment": 1,
          "index": 0
         },
         {
          "Phrase": "A series of escapades demonstrating the adage that what is good for the goose",
          "PhraseId": 2,
          "SentenceId": 1,
          "Sentiment": 2,
          "index": 1
         },
         {
          "Phrase": "A series",
          "PhraseId": 3,
          "SentenceId": 1,
          "Sentiment": 2,
          "index": 2
         },
         {
          "Phrase": "A",
          "PhraseId": 4,
          "SentenceId": 1,
          "Sentiment": 2,
          "index": 3
         },
         {
          "Phrase": "series",
          "PhraseId": 5,
          "SentenceId": 1,
          "Sentiment": 2,
          "index": 4
         }
        ],
        "schema": {
         "fields": [
          {
           "name": "index",
           "type": "integer"
          },
          {
           "name": "PhraseId",
           "type": "integer"
          },
          {
           "name": "SentenceId",
           "type": "integer"
          },
          {
           "name": "Phrase",
           "type": "string"
          },
          {
           "name": "Sentiment",
           "type": "integer"
          }
         ],
         "pandas_version": "0.20.0",
         "primaryKey": [
          "index"
         ]
        }
       },
       "total_rows": 5
      },
      "text/html": [
       "<div>\n",
       "<style scoped>\n",
       "    .dataframe tbody tr th:only-of-type {\n",
       "        vertical-align: middle;\n",
       "    }\n",
       "\n",
       "    .dataframe tbody tr th {\n",
       "        vertical-align: top;\n",
       "    }\n",
       "\n",
       "    .dataframe thead th {\n",
       "        text-align: right;\n",
       "    }\n",
       "</style>\n",
       "<table border=\"1\" class=\"dataframe\">\n",
       "  <thead>\n",
       "    <tr style=\"text-align: right;\">\n",
       "      <th></th>\n",
       "      <th>PhraseId</th>\n",
       "      <th>SentenceId</th>\n",
       "      <th>Phrase</th>\n",
       "      <th>Sentiment</th>\n",
       "    </tr>\n",
       "  </thead>\n",
       "  <tbody>\n",
       "    <tr>\n",
       "      <th>0</th>\n",
       "      <td>1</td>\n",
       "      <td>1</td>\n",
       "      <td>A series of escapades demonstrating the adage ...</td>\n",
       "      <td>1</td>\n",
       "    </tr>\n",
       "    <tr>\n",
       "      <th>1</th>\n",
       "      <td>2</td>\n",
       "      <td>1</td>\n",
       "      <td>A series of escapades demonstrating the adage ...</td>\n",
       "      <td>2</td>\n",
       "    </tr>\n",
       "    <tr>\n",
       "      <th>2</th>\n",
       "      <td>3</td>\n",
       "      <td>1</td>\n",
       "      <td>A series</td>\n",
       "      <td>2</td>\n",
       "    </tr>\n",
       "    <tr>\n",
       "      <th>3</th>\n",
       "      <td>4</td>\n",
       "      <td>1</td>\n",
       "      <td>A</td>\n",
       "      <td>2</td>\n",
       "    </tr>\n",
       "    <tr>\n",
       "      <th>4</th>\n",
       "      <td>5</td>\n",
       "      <td>1</td>\n",
       "      <td>series</td>\n",
       "      <td>2</td>\n",
       "    </tr>\n",
       "  </tbody>\n",
       "</table>\n",
       "</div>"
      ],
      "text/plain": [
       "   PhraseId  SentenceId                                             Phrase  \\\n",
       "0         1           1  A series of escapades demonstrating the adage ...   \n",
       "1         2           1  A series of escapades demonstrating the adage ...   \n",
       "2         3           1                                           A series   \n",
       "3         4           1                                                  A   \n",
       "4         5           1                                             series   \n",
       "\n",
       "   Sentiment  \n",
       "0          1  \n",
       "1          2  \n",
       "2          2  \n",
       "3          2  \n",
       "4          2  "
      ]
     },
     "execution_count": 30,
     "metadata": {},
     "output_type": "execute_result"
    }
   ],
   "source": [
    "data.head()"
   ]
  },
  {
   "cell_type": "code",
   "execution_count": null,
   "id": "0780d314",
   "metadata": {},
   "outputs": [
    {
     "name": "stdout",
     "output_type": "stream",
     "text": [
      "<class 'pandas.core.frame.DataFrame'>\n",
      "RangeIndex: 156060 entries, 0 to 156059\n",
      "Data columns (total 4 columns):\n",
      " #   Column      Non-Null Count   Dtype \n",
      "---  ------      --------------   ----- \n",
      " 0   PhraseId    156060 non-null  int64 \n",
      " 1   SentenceId  156060 non-null  int64 \n",
      " 2   Phrase      156060 non-null  object\n",
      " 3   Sentiment   156060 non-null  int64 \n",
      "dtypes: int64(3), object(1)\n",
      "memory usage: 4.8+ MB\n"
     ]
    }
   ],
   "source": [
    "data.info()"
   ]
  },
  {
   "cell_type": "code",
   "execution_count": null,
   "id": "a5f57376",
   "metadata": {
    "lines_to_next_cell": 0
   },
   "outputs": [
    {
     "data": {
      "text/plain": [
       "2    79582\n",
       "3    32927\n",
       "1    27273\n",
       "4     9206\n",
       "0     7072\n",
       "Name: Sentiment, dtype: int64"
      ]
     },
     "execution_count": 32,
     "metadata": {},
     "output_type": "execute_result"
    }
   ],
   "source": [
    "data.Sentiment.value_counts()"
   ]
  },
  {
   "cell_type": "code",
   "execution_count": null,
   "id": "678a87c4",
   "metadata": {
    "lines_to_next_cell": 2
   },
   "outputs": [
    {
     "data": {
      "image/png": "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\n",
      "text/plain": [
       "<Figure size 432x288 with 1 Axes>"
      ]
     },
     "metadata": {
      "needs_background": "light"
     },
     "output_type": "display_data"
    }
   ],
   "source": [
    "import matplotlib.pyplot as plt\n",
    "Sentiment_count = data.groupby('Sentiment').count()\n",
    "\n",
    "plt.bar(Sentiment_count.index.values, Sentiment_count['Phrase'])\n",
    "plt.xlabel('Review Sentiments')\n",
    "plt.ylabel('Number of Review')\n",
    "plt.show()"
   ]
  },
  {
   "cell_type": "markdown",
   "id": "ccbd2a12",
   "metadata": {},
   "source": [
    "#### Feature Generation using Bag of Words\n",
    "\n",
    "In the Text Classification Problem, we have a set of texts and their respective labels. But we directly can't use text for our model. You need to convert these text into some numbers or vectors of numbers.  \n",
    "\n",
    "Bag-of-words model(BoW ) is the simplest way of extracting features from the text.  BoW converts text into the matrix of occurrence of words within a document. This model concerns about whether given words occurred or not in the document.\n",
    "\n",
    "Example: There are three documents:\n",
    "\n",
    "Doc 1: I love dogs.\n",
    "Doc 2: I hate dogs and knitting.\n",
    "Doc 3: Knitting is my hobby and passion.\n",
    "\n",
    "Now, you can create a matrix of document and words by counting the occurrence of words in the given document. This matrix is known as Document-Term Matrix(DTM).\n",
    "\n",
    "![Document-Term Matrix(DTM)](graphics/figure3.png)\n",
    "\n",
    "This matrix is using a single word. It can be a combination of two or more words, which is called a bigram or trigram model and the general approach is called the n-gram model.\n",
    "\n",
    "You can generate document term matrix by using scikit-learn's CountVectorizer.\n"
   ]
  },
  {
   "cell_type": "code",
   "execution_count": null,
   "id": "66fa6051",
   "metadata": {},
   "outputs": [],
   "source": [
    "from sklearn.feature_extraction.text import CountVectorizer\n",
    "from nltk.tokenize import RegexpTokenizer\n",
    "\n",
    "#tokenizer to remove unwanted elements from out data like symbols and numbers\n",
    "token = RegexpTokenizer(r'[a-zA-Z0-9]+')\n",
    "cv = CountVectorizer(lowercase=True,stop_words='english',ngram_range = (1,1),tokenizer = token.tokenize)\n",
    "text_counts = cv.fit_transform(data['Phrase'])"
   ]
  },
  {
   "cell_type": "markdown",
   "id": "91d50f84",
   "metadata": {},
   "source": [
    "#### Split train and test set\n",
    "\n",
    "To understand model performance, dividing the dataset into a training set and a test set is a good strategy.\n",
    "\n",
    "Let's split dataset by using function train_test_split(). You need to pass basically 3 parameters features, target, and test_set size. Additionally, you can use random_state to select records randomly.\n"
   ]
  },
  {
   "cell_type": "code",
   "execution_count": null,
   "id": "43a98632",
   "metadata": {},
   "outputs": [],
   "source": [
    "from sklearn.model_selection import train_test_split\n",
    "\n",
    "X_train, X_test, y_train, y_test = train_test_split(\n",
    "    text_counts, data['Sentiment'], test_size=0.3, random_state=1)"
   ]
  },
  {
   "cell_type": "markdown",
   "id": "1f391fd1",
   "metadata": {},
   "source": [
    "#### Model Building and Evaluation\n",
    "\n",
    "Let's build the Text Classification Model using TF-IDF.\n",
    "\n",
    "First, import the MultinomialNB module and create a Multinomial Naive Bayes classifier object using MultinomialNB() function.\n",
    "\n",
    "Then, fit your model on a train set using fit() and perform prediction on the test set using predict().\n"
   ]
  },
  {
   "cell_type": "code",
   "execution_count": null,
   "id": "b8f27fda",
   "metadata": {},
   "outputs": [
    {
     "name": "stdout",
     "output_type": "stream",
     "text": [
      "MultinomialNB Accuracy: 0.6049169122986885\n"
     ]
    }
   ],
   "source": [
    "from sklearn.naive_bayes import MultinomialNB\n",
    "from sklearn import metrics # Import scikit-learn metrics module for accuracy calculation\n",
    "\n",
    "# Model Generation Using Multinomial Naive Bayes\n",
    "clf = MultinomialNB().fit(X_train, y_train)\n",
    "predicted = clf.predict(X_test)\n",
    "print(\"MultinomialNB Accuracy:\", metrics.accuracy_score(y_test, predicted))"
   ]
  },
  {
   "cell_type": "markdown",
   "id": "6ed5ad58",
   "metadata": {},
   "source": [
    "Well, you got a classification rate of 60.49% using CountVector(or BoW), which is not considered as good accuracy. We need to improve this.\n",
    "\n",
    "#### Feature Generation using TF-IDF\n",
    "\n",
    "In Term Frequency(TF), you just count the number of words occurred in each document. The main issue with this Term Frequency is that it will give more weight to longer documents. Term frequency is basically the output of the BoW model.\n",
    "\n",
    "IDF(Inverse Document Frequency) measures the amount of information a given word provides across the document. IDF is the logarithmically scaled inverse ratio of the number of documents that contain the word and the total number of documents.  "
   ]
  },
  {
   "cell_type": "markdown",
   "id": "1f50af38-8c90-410c-b0cd-ff494ee3718e",
   "metadata": {},
   "source": [
    "$$\n",
    "\\text{idf(W)} = log \\frac{\\text{ \\# (documents)}}{\\text{\\#(documents containing word W)}}\n",
    "$$"
   ]
  },
  {
   "cell_type": "markdown",
   "id": "c310acb5-41e3-4519-a910-58accba772af",
   "metadata": {},
   "source": [
    "TF-IDF(Term Frequency-Inverse Document Frequency) normalizes the document term matrix.  It is the product of TF and IDF. Word with high tf-idf in a document, it is most of the times occurred in given documents and must be absent in the other documents. So the words must be a signature word.\n",
    "\n",
    "![TF-IDF(Term Frequency-Inverse Document Frequency)](graphics/figure4.png)"
   ]
  },
  {
   "cell_type": "code",
   "execution_count": null,
   "id": "8857e052",
   "metadata": {},
   "outputs": [],
   "source": [
    "from sklearn.feature_extraction.text import TfidfVectorizer\n",
    "\n",
    "tf = TfidfVectorizer()\n",
    "text_tf = tf.fit_transform(data['Phrase'])"
   ]
  },
  {
   "cell_type": "markdown",
   "id": "45e9190b",
   "metadata": {},
   "source": [
    "#### Split train and test set (TF-IDF)\n",
    "\n",
    "Let's split dataset by using function train_test_split(). You need to pass basically 3 parameters features, target, and test_set size. Additionally, you can use random_state to select records randomly.\n"
   ]
  },
  {
   "cell_type": "code",
   "execution_count": null,
   "id": "69e4a000",
   "metadata": {},
   "outputs": [],
   "source": [
    "from sklearn.model_selection import train_test_split\n",
    "\n",
    "X_train, X_test, y_train, y_test = train_test_split(\n",
    "    text_tf, data['Sentiment'], test_size=0.3, random_state=123)"
   ]
  },
  {
   "cell_type": "markdown",
   "id": "512969df",
   "metadata": {},
   "source": [
    "#### Model Building and Evaluation  (TF-IDF)\n",
    "\n",
    "Let's build the Text Classification Model using TF-IDF.\n",
    "\n",
    "First, import the MultinomialNB module and create the Multinomial Naive Bayes classifier object using MultinomialNB() function.\n",
    "\n",
    "Then, fit your model on a train set using fit() and perform prediction on the test set using predict().\n"
   ]
  },
  {
   "cell_type": "code",
   "execution_count": null,
   "id": "39abcd94",
   "metadata": {},
   "outputs": [
    {
     "name": "stdout",
     "output_type": "stream",
     "text": [
      "MultinomialNB Accuracy: 0.5865265496176684\n"
     ]
    }
   ],
   "source": [
    "from sklearn.naive_bayes import MultinomialNB\n",
    "from sklearn import metrics\n",
    "\n",
    "# Model Generation Using Multinomial Naive Bayes\n",
    "clf = MultinomialNB().fit(X_train, y_train)\n",
    "predicted = clf.predict(X_test)\n",
    "print(\"MultinomialNB Accuracy:\",metrics.accuracy_score(y_test, predicted))"
   ]
  },
  {
   "cell_type": "markdown",
   "id": "6d29a676",
   "metadata": {},
   "source": [
    "Well, you got a classification rate of 58.65% using TF-IDF features, which is not considered as good accuracy. We need to improve the accuracy by using some other preprocessing or feature engineering. Let's suggest in comment box some approach for accuracy improvement.\n",
    "\n",
   ]
  }
 ],
 "metadata": {
  "jupytext": {
   "cell_metadata_filter": "-all",
   "main_language": "python",
   "notebook_metadata_filter": "-all"
  },
  "kernelspec": {
   "display_name": "Python 3 (ipykernel)",
   "language": "python",
   "name": "python3"
  },
  "language_info": {
   "codemirror_mode": {
    "name": "ipython",
    "version": 3
   },
   "file_extension": ".py",
   "mimetype": "text/x-python",
   "name": "python",
   "nbconvert_exporter": "python",
   "pygments_lexer": "ipython3",
   "version": "3.8.10"
  }
 },
 "nbformat": 4,
 "nbformat_minor": 5
}
